{
 "cells": [
  {
   "cell_type": "markdown",
   "metadata": {},
   "source": [
    "# Conceptos Básicos"
   ]
  },
  {
   "cell_type": "markdown",
   "metadata": {},
   "source": [
    "## Revisar la versión de python"
   ]
  },
  {
   "cell_type": "code",
   "execution_count": 6,
   "metadata": {},
   "outputs": [
    {
     "name": "stdout",
     "output_type": "stream",
     "text": [
      "3.6.5\n"
     ]
    }
   ],
   "source": [
    "import platform\n",
    "python_version=platform.python_version()\n",
    "print (python_version)"
   ]
  },
  {
   "cell_type": "markdown",
   "metadata": {},
   "source": [
    "## Operaciones básicas"
   ]
  },
  {
   "cell_type": "code",
   "execution_count": 10,
   "metadata": {},
   "outputs": [
    {
     "name": "stdout",
     "output_type": "stream",
     "text": [
      "<class 'int'>\n",
      "<class 'float'>\n",
      "3.3333333333333335\n",
      "32\n",
      "3.0\n",
      "3\n",
      "0.25\n",
      "False\n",
      "True\n"
     ]
    }
   ],
   "source": [
    "print(type(3))\n",
    "print(type(3.0))\n",
    "print(10/3)\n",
    "print(2**5) #potenciación\n",
    "print(9 ** (1/2)) #raíz cuadrada de 9\n",
    "print(20 // 6) # valor entero de la división\n",
    "print(1.25 % 0.5) #operación módulo\n",
    "print(True & False)\n",
    "print(True | False)"
   ]
  },
  {
   "cell_type": "markdown",
   "metadata": {},
   "source": [
    "## Precedencia de operadores"
   ]
  },
  {
   "cell_type": "code",
   "execution_count": 8,
   "metadata": {},
   "outputs": [
    {
     "name": "stdout",
     "output_type": "stream",
     "text": [
      "14\n",
      "10\n",
      "True\n"
     ]
    }
   ],
   "source": [
    "print(2 * (3 + 4))\n",
    "print(2*3+4)\n",
    "print(2*3+4>0)"
   ]
  },
  {
   "cell_type": "markdown",
   "metadata": {},
   "source": [
    "## Type casting"
   ]
  },
  {
   "cell_type": "code",
   "execution_count": 18,
   "metadata": {},
   "outputs": [
    {
     "name": "stdout",
     "output_type": "stream",
     "text": [
      "5.0\n",
      "8\n",
      "(10+0j)\n",
      "True\n"
     ]
    }
   ],
   "source": [
    "print(float(5))\n",
    "print(int(8.5))\n",
    "print(complex(10))\n",
    "print(bool(1))"
   ]
  },
  {
   "cell_type": "markdown",
   "metadata": {},
   "source": [
    "## Strings"
   ]
  },
  {
   "cell_type": "code",
   "execution_count": 11,
   "metadata": {},
   "outputs": [
    {
     "name": "stdout",
     "output_type": "stream",
     "text": [
      "First string, second string\n",
      "2222\n",
      "23\n",
      "5\n",
      "10\n",
      "11\n",
      "Machine Learning\n"
     ]
    }
   ],
   "source": [
    "print(\"First string\" + \", \" + \"second string\")\n",
    "print(4 * '2')\n",
    "print(\"2\" + \"3\")\n",
    "print(int(\"2\") + int(\"3\"))\n",
    "x=7\n",
    "print(x+3)\n",
    "x += 4\n",
    "print(x)\n",
    "y=\"Machine \"\n",
    "y += \"Learning\"\n",
    "print(y)"
   ]
  },
  {
   "cell_type": "markdown",
   "metadata": {},
   "source": [
    "# Estructuras de Control"
   ]
  },
  {
   "cell_type": "markdown",
   "metadata": {},
   "source": [
    "## Condicional"
   ]
  },
  {
   "cell_type": "code",
   "execution_count": 1,
   "metadata": {},
   "outputs": [
    {
     "name": "stdout",
     "output_type": "stream",
     "text": [
      "El número 16 es Par\n"
     ]
    }
   ],
   "source": [
    "x=16\n",
    "if x%2 == 0:\n",
    "    print(\"El número \"+str(x)+\" es Par\")\n",
    "else:\n",
    "     print(\"El número \"+str(x)+\" es Inpar\")   "
   ]
  },
  {
   "cell_type": "code",
   "execution_count": 2,
   "metadata": {},
   "outputs": [
    {
     "name": "stdout",
     "output_type": "stream",
     "text": [
      "5 es el valor más pequeño\n"
     ]
    }
   ],
   "source": [
    "x=10\n",
    "y=20\n",
    "z=5\n",
    "if x<y and x<z:\n",
    "    print(str(x)+\" es el valor más pequeño\")\n",
    "elif y<z:\n",
    "    print(str(y)+\" es el valor más pequeño\")\n",
    "else:\n",
    "    print(str(z)+\" es el valor más pequeño\")"
   ]
  },
  {
   "cell_type": "code",
   "execution_count": 1,
   "metadata": {},
   "outputs": [
    {
     "name": "stdout",
     "output_type": "stream",
     "text": [
      "27 es un cubo perfecto\n"
     ]
    }
   ],
   "source": [
    "x=27\n",
    "ans=0\n",
    "while ans**3<x:\n",
    "    ans=ans+1\n",
    "if ans**3 != x:\n",
    "    print(str(x)+\" no es un cubo perfecto\")\n",
    "else:\n",
    "    print(str(x)+\" es un cubo perfecto\")"
   ]
  },
  {
   "cell_type": "code",
   "execution_count": 5,
   "metadata": {},
   "outputs": [
    {
     "name": "stdout",
     "output_type": "stream",
     "text": [
      "64 es un cubo perfecto\n"
     ]
    }
   ],
   "source": [
    "x=64\n",
    "for ans in range(0,x):\n",
    "    if ans**3 == x:\n",
    "        break\n",
    "if ans**3 != x:\n",
    "    print(str(x)+\" no es un cubo perfecto\")\n",
    "else:\n",
    "    print(str(x)+\" es un cubo perfecto\")"
   ]
  },
  {
   "cell_type": "code",
   "execution_count": 1,
   "metadata": {},
   "outputs": [
    {
     "name": "stdout",
     "output_type": "stream",
     "text": [
      "La raíz cúbica de -27 es -3\n"
     ]
    }
   ],
   "source": [
    "x=-27\n",
    "ans=0\n",
    "while ans**3<abs(x):\n",
    "    ans=ans+1\n",
    "if ans**3 != abs(x):\n",
    "    print(str(x)+\" no es un cubo perfecto\")\n",
    "else:\n",
    "    if x<0:\n",
    "        ans=-ans\n",
    "    print(\"La raíz cúbica de \"+str(x)+\" es \"+str(ans))"
   ]
  },
  {
   "cell_type": "code",
   "execution_count": 2,
   "metadata": {},
   "outputs": [
    {
     "name": "stdout",
     "output_type": "stream",
     "text": [
      "La raíz cúbica de -64 es -4\n"
     ]
    }
   ],
   "source": [
    "x=-64\n",
    "for ans in range(0,abs(x)):\n",
    "    if ans**3 == abs(x):\n",
    "        break\n",
    "if ans**3 != abs(x):\n",
    "    print(str(x)+\" no es un cubo perfecto\")\n",
    "else:\n",
    "    if x<0:\n",
    "        ans=-ans\n",
    "    print(\"La raíz cúbica de \"+str(x)+\" es \"+str(ans))"
   ]
  },
  {
   "cell_type": "code",
   "execution_count": 1,
   "metadata": {},
   "outputs": [],
   "source": [
    "#def <nombre de la función>(<parámetros>):\n",
    "#    #descripción de la función\n",
    "#    <cuerpo de la función>\n",
    "#    return <salida de la función>"
   ]
  },
  {
   "cell_type": "code",
   "execution_count": 1,
   "metadata": {},
   "outputs": [
    {
     "name": "stdout",
     "output_type": "stream",
     "text": [
      "4.999995231628418\n"
     ]
    }
   ],
   "source": [
    "def encontrarRaiz(x,n,tol):\n",
    "    liminf=0\n",
    "    limsup=x\n",
    "    sol=(liminf+limsup)/2.0\n",
    "    while abs(sol**n-x)>tol:\n",
    "        if sol**n<x:\n",
    "            liminf=sol\n",
    "        else:\n",
    "            limsup=sol\n",
    "        sol=(liminf+limsup)/2.0\n",
    "    return sol\n",
    "print(encontrarRaiz(25.0,2,0.0001))"
   ]
  },
  {
   "cell_type": "code",
   "execution_count": null,
   "metadata": {},
   "outputs": [],
   "source": []
  }
 ],
 "metadata": {
  "kernelspec": {
   "display_name": "Python 3",
   "language": "python",
   "name": "python3"
  },
  "language_info": {
   "codemirror_mode": {
    "name": "ipython",
    "version": 3
   },
   "file_extension": ".py",
   "mimetype": "text/x-python",
   "name": "python",
   "nbconvert_exporter": "python",
   "pygments_lexer": "ipython3",
   "version": "3.6.7"
  }
 },
 "nbformat": 4,
 "nbformat_minor": 2
}
